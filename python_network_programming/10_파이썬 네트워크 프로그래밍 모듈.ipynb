{
 "cells": [
  {
   "cell_type": "code",
   "execution_count": 14,
   "metadata": {},
   "outputs": [],
   "source": [
    "import ipaddress as ipa\n",
    "import binascii\n",
    "Addresses = [\n",
    "    '192.168.0.5',\n",
    "    '2001:0:9d38:6abd:480:f1f:3f57:fffb',\n",
    "]"
   ]
  },
  {
   "cell_type": "code",
   "execution_count": 5,
   "metadata": {},
   "outputs": [],
   "source": [
    "addr4 = ipaddress.ip_address('192.0.2.1')\n",
    "addr6 = ipaddress.ip_address('2001:DB8::1')"
   ]
  },
  {
   "cell_type": "code",
   "execution_count": 7,
   "metadata": {},
   "outputs": [
    {
     "data": {
      "text/plain": [
       "4"
      ]
     },
     "execution_count": 7,
     "metadata": {},
     "output_type": "execute_result"
    }
   ],
   "source": [
    "addr4.is_loopback\n",
    "addr4.version"
   ]
  },
  {
   "cell_type": "code",
   "execution_count": 28,
   "metadata": {},
   "outputs": [
    {
     "name": "stdout",
     "output_type": "stream",
     "text": [
      "IP address: IPv4Address('192.168.0.5')\n",
      "IP version: 4\n",
      "b'\\xc0\\xa8\\x00\\x05'\n",
      "Packed addr: b'c0a80005'\n",
      "Integer addr: 3232235525\n",
      "Is private?: True\n",
      "\n",
      "IP address: IPv6Address('2001:0:9d38:6abd:480:f1f:3f57:fffb')\n",
      "IP version: 6\n",
      "b' \\x01\\x00\\x00\\x9d8j\\xbd\\x04\\x80\\x0f\\x1f?W\\xff\\xfb'\n",
      "Packed addr: b'200100009d386abd04800f1f3f57fffb'\n",
      "Integer addr: 42540488210633193206006041362424135675\n",
      "Is private?: True\n",
      "\n"
     ]
    }
   ],
   "source": [
    "for ipaddr in Addresses:\n",
    "    addr = ipa.ip_address(ipaddr)\n",
    "    print(f'IP address: {addr!r}')    \n",
    "    print('IP version:', addr.version)\n",
    "    print(addr.packed)\n",
    "    print('Packed addr:', binascii.hexlify(addr.packed))\n",
    "    print(\"Integer addr:\", int(addr))\n",
    "    print('Is private?:', addr.is_private)\n",
    "    print()"
   ]
  }
 ],
 "metadata": {
  "kernelspec": {
   "display_name": "Python 3",
   "language": "python",
   "name": "python3"
  },
  "language_info": {
   "codemirror_mode": {
    "name": "ipython",
    "version": 3
   },
   "file_extension": ".py",
   "mimetype": "text/x-python",
   "name": "python",
   "nbconvert_exporter": "python",
   "pygments_lexer": "ipython3",
   "version": "3.7.7"
  }
 },
 "nbformat": 4,
 "nbformat_minor": 4
}
